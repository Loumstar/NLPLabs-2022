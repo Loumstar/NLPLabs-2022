{
  "cells": [
    {
      "cell_type": "code",
      "execution_count": 1,
      "metadata": {
        "colab": {},
        "colab_type": "code",
        "id": "5qS8y5_Ewv6n"
      },
      "outputs": [
        {
          "name": "stdout",
          "output_type": "stream",
          "text": [
            "Requirement already satisfied: torch in /Users/louismanestar/.pyenv/versions/3.8.12/lib/python3.8/site-packages (1.10.2)\n",
            "Requirement already satisfied: typing-extensions in /Users/louismanestar/.pyenv/versions/3.8.12/lib/python3.8/site-packages (from torch) (4.0.1)\n",
            "\u001b[33mWARNING: You are using pip version 22.0.3; however, version 22.0.4 is available.\n",
            "You should consider upgrading via the '/Users/louismanestar/.pyenv/versions/3.8.12/bin/python3.8 -m pip install --upgrade pip' command.\u001b[0m\u001b[33m\n",
            "\u001b[0m"
          ]
        }
      ],
      "source": [
        "# Uncomment below if you want to install packages into your local environment\n",
        "# Colab already provides the required packages for this lab\n",
        "\n",
        "! pip install torch"
      ]
    },
    {
      "cell_type": "code",
      "execution_count": 2,
      "metadata": {
        "colab": {},
        "colab_type": "code",
        "id": "pEJM0h_uctzV"
      },
      "outputs": [],
      "source": [
        "import random\n",
        "\n",
        "import numpy as np\n",
        "\n",
        "import torch\n",
        "import torch.nn as nn\n",
        "import torch.optim as optim\n",
        "import torch.nn.functional as F\n",
        "\n",
        "# we fix the seeds to get consistent results before every training\n",
        "# loop in what follows\n",
        "def fix_seed(seed=234):\n",
        "  torch.manual_seed(seed)\n",
        "  torch.cuda.manual_seed(seed)\n",
        "  np.random.seed(seed)\n",
        "  random.seed(seed)"
      ]
    },
    {
      "cell_type": "markdown",
      "metadata": {
        "colab_type": "text",
        "id": "FE8B9-L8U0aZ"
      },
      "source": [
        "# Text classification: Sentiment analysis\n",
        "\n",
        "In this notebook we are going to build state-of-the art models for text classification using the example of sentiment analysis. To be more precise, we will build a feed-forward neural network (FFNN) and a convolutional neural network (CNN). We will look into the details of data preparation, functioning of each model and how the performance of those NNs could be measured efficiently. We will start our work using a toy corpus. Further you can extend your knowledge and use a larger dataset.\n",
        "\n",
        "Again we are using [pytorch](https://www.pytorch.org), an open source deep learning platform, as our backbone library in the course.\n",
        "\n",
        "Here are the toy training and validation sets. It is good practise to use the validation set (a representative set of the test data). This set is used to tune hyperparameters and choose a configuration for your model to ensure the best performance. Our toy sets are already tokenized and lowercased."
      ]
    },
    {
      "cell_type": "code",
      "execution_count": 3,
      "metadata": {
        "colab": {},
        "colab_type": "code",
        "id": "abMSnMwJx8bu"
      },
      "outputs": [],
      "source": [
        " # Our toy sentiment analysis corpus\n",
        "train = ['i like his paper !',\n",
        "         'what a well-written essay !',\n",
        "         'i do not agree with the criticism on this paper',\n",
        "         'well done ! it was an enjoyable reading',\n",
        "         'it was very good . send me a copy please .',\n",
        "         'the argumentation in the paper is very weak',\n",
        "         'poor effort !',\n",
        "         'the methodology could have been more detailed',\n",
        "         'i am not impressed',\n",
        "         'could have done better .',\n",
        "]\n",
        "\n",
        "train_labels = [1, 1, 1, 1, 1, 0, 0, 0, 0, 0]\n",
        "\n",
        "# Validation set\n",
        "valid = ['i like your paper', \n",
        "         'i agree with your results', \n",
        "         'what a success ! a well-written paper', \n",
        "         'not enough details . very poor', \n",
        "         'i support the criticism',\n",
        "         'could be better',\n",
        "]\n",
        "\n",
        "valid_labels = [1, 1, 1, 0, 0, 0]"
      ]
    },
    {
      "cell_type": "markdown",
      "metadata": {
        "colab_type": "text",
        "id": "0hPlpqVFYpfL"
      },
      "source": [
        "## Pre-processing\n",
        "\n",
        "Using the material from the previous lab session, fill in the below function to tokenize the corpus:"
      ]
    },
    {
      "cell_type": "code",
      "execution_count": 8,
      "metadata": {
        "colab": {},
        "colab_type": "code",
        "id": "UQ5IL1e1GVn6"
      },
      "outputs": [
        {
          "name": "stderr",
          "output_type": "stream",
          "text": [
            "[nltk_data] Downloading package stopwords to\n",
            "[nltk_data]     /Users/louismanestar/nltk_data...\n",
            "[nltk_data]   Package stopwords is already up-to-date!\n",
            "[nltk_data] Downloading package omw-1.4 to\n",
            "[nltk_data]     /Users/louismanestar/nltk_data...\n",
            "[nltk_data]   Package omw-1.4 is already up-to-date!\n",
            "[nltk_data] Downloading package wordnet to\n",
            "[nltk_data]     /Users/louismanestar/nltk_data...\n",
            "[nltk_data]   Package wordnet is already up-to-date!\n",
            "[nltk_data] Downloading package punkt to\n",
            "[nltk_data]     /Users/louismanestar/nltk_data...\n",
            "[nltk_data]   Package punkt is already up-to-date!\n"
          ]
        }
      ],
      "source": [
        "import nltk\n",
        "import re\n",
        "\n",
        "nltk.download('stopwords')\n",
        "nltk.download('omw-1.4')\n",
        "nltk.download('wordnet')\n",
        "nltk.download('punkt')\n",
        "\n",
        "from nltk.corpus import stopwords\n",
        "from nltk.stem import WordNetLemmatizer\n",
        "\n",
        "punct_regex = re.compile(r'[\\s,/.\\']')\n",
        "lemmatizer = WordNetLemmatizer()\n",
        "\n",
        "def remove_stop_words(token):\n",
        "    return token not in stopwords.words(\"english\")\n",
        "\n",
        "def lemmatize(word):\n",
        "    return lemmatizer.lemmatize(word)\n",
        "\n",
        "def get_tokenized_corpus(corpus):\n",
        "    tokenized_corpus = list()\n",
        "\n",
        "    for sentence in corpus:\n",
        "        #removed_punct = filter(None, punct_regex.split(sentence))\n",
        "        #tokenised_sentence = filter(remove_stop_words, removed_punct)\n",
        "        #lemmatized_sentence = list(map(lemmatize, tokenised_sentence))\n",
        "        #tokenized_corpus.append(lemmatized_sentence)\n",
        "        tokenized_corpus.append(sentence.split(\" \"))\n",
        "\n",
        "    return tokenized_corpus"
      ]
    },
    {
      "cell_type": "markdown",
      "metadata": {
        "colab_type": "text",
        "id": "cyKCfY6QbO0r"
      },
      "source": [
        "## Word2index dictionary\n",
        "\n",
        "Similar to the way it was done in the previous lab, we define here a method that returns a word to index dictionary. Note that we reserve the 0 index for the padding token `<pad>`."
      ]
    },
    {
      "cell_type": "code",
      "execution_count": 9,
      "metadata": {
        "colab": {},
        "colab_type": "code",
        "id": "9bWQ3zKYKlQU"
      },
      "outputs": [],
      "source": [
        "def get_word2idx(tokenized_corpus):\n",
        "  vocabulary = []\n",
        "  for sentence in tokenized_corpus:\n",
        "    for token in sentence:\n",
        "        if token not in vocabulary:\n",
        "            vocabulary.append(token)\n",
        "  \n",
        "  word2idx = {w: idx+1 for (idx, w) in enumerate(vocabulary)}\n",
        "  # we reserve the 0 index for the padding token\n",
        "  word2idx['<pad>'] = 0\n",
        "  \n",
        "  return word2idx"
      ]
    },
    {
      "cell_type": "markdown",
      "metadata": {
        "colab_type": "text",
        "id": "Hve1MProNBvp"
      },
      "source": [
        "## Preparation of inputs\n",
        "\n",
        "The first layer of our FFNN will be an embedding (look-up) layer which takes as input indexes of tokens (we do not need to one-hot encode our vectors).\n",
        "\n",
        "__Why do we need to fix the length of our input vectors (we take the maximum sentence length here)? This process is referred to as padding. Print the padded training corpus.__ The input samples must fit into a matrix for computation, so both the embedding dimensions and the sentence length need to be fixed."
      ]
    },
    {
      "cell_type": "code",
      "execution_count": 46,
      "metadata": {
        "colab": {},
        "colab_type": "code",
        "id": "J-xp_gKvObfw"
      },
      "outputs": [],
      "source": [
        "def get_model_inputs(tokenized_corpus, word2idx, labels):\n",
        "  # we index our sentences\n",
        "  vectorized_sents = [[word2idx[tok] for tok in sent if tok in word2idx] for sent in tokenized_corpus]\n",
        "\n",
        "  # Sentence lengths\n",
        "  sent_lengths = [len(sent) for sent in vectorized_sents]\n",
        "\n",
        "  # Get maximum length\n",
        "  max_len = max(sent_lengths)\n",
        "  \n",
        "  # we create a tensor of a fixed size filled with zeroes for padding\n",
        "  sent_tensor = torch.zeros((len(vectorized_sents), max_len)).long()\n",
        "\n",
        "  # we fill it with our vectorized sentences \n",
        "  for idx, (sent, sentlen) in enumerate(zip(vectorized_sents, sent_lengths)):\n",
        "    sent_tensor[idx, :sentlen] = torch.LongTensor(sent)\n",
        "\n",
        "  # Label tensor\n",
        "  label_tensor = torch.FloatTensor(labels)\n",
        "  \n",
        "  return sent_tensor, label_tensor\n",
        "\n",
        "###\n",
        "\n",
        "tokenized_corpus = get_tokenized_corpus(train)\n",
        "word2idx = get_word2idx(tokenized_corpus)\n",
        "train_sent_tensor, train_label_tensor = get_model_inputs(tokenized_corpus, word2idx, train_labels)"
      ]
    },
    {
      "cell_type": "markdown",
      "metadata": {
        "colab_type": "text",
        "id": "xGg6CtALe8Va"
      },
      "source": [
        "# Building the Feed-Forward Neural Network\n",
        "\n",
        "We will start by building a very simple feed-forward neural network (FFNN).\n",
        "Our FFNN class is a sub-class of `nn.Module`. Within the `__init__` method, we define the layers of the module:\n",
        "\n",
        "- Our first layer is an embedding layer (look-up layer). This layer could be initialized with pre-trained embeddings (as we will see at the end of this lab) or could be trained together with other layers.\n",
        " \n",
        "- The next layer is a fully connected layer followed by a ReLU activation.\n",
        "\n",
        "- Finally, the last linear layer is the output layer for the classification task.\n",
        "\n",
        "The `forward()` method is called when we feed data into our model. Please note that the output dimension of each layer is the input dimension for the next one.\n",
        "\n",
        "---\n",
        "\n",
        "__Recall from the previous lab the functioning of a lookup layer. How does the mapping to the dense representation happen?__ The lookup layer creates a one-hot vector for each word. By training the model, the first weight matrix of the embedding NN $ W_1 $ learns dense representations of the one-hot vectors within the embedding dimensions. We then multiply the one-hot vector by $ W_1 $ to yield its dense representation.\n",
        "\n",
        "__Implement the averaging of embeddings in the `forward()` method of the class below.__\n"
      ]
    },
    {
      "cell_type": "code",
      "execution_count": 47,
      "metadata": {
        "colab": {},
        "colab_type": "code",
        "id": "4LWut1gtXGQN"
      },
      "outputs": [],
      "source": [
        "class FFNN(nn.Module):\n",
        "    def __init__(self, embedding_dim, hidden_dim, vocab_size, num_classes):  \n",
        "        super(FFNN, self).__init__()\n",
        "        \n",
        "        # embedding (lookup layer) layer\n",
        "        # padding_idx argument makes sure that the 0-th token in the vocabulary\n",
        "        # is used for padding purposes i.e. its embedding will be a 0-vector\n",
        "        self.embedding = nn.Embedding(vocab_size, embedding_dim, padding_idx=0)\n",
        "        \n",
        "        # hidden layer\n",
        "        self.fc1 = nn.Linear(embedding_dim, hidden_dim)\n",
        "        \n",
        "        # activation\n",
        "        self.relu1 = nn.ReLU()\n",
        "        \n",
        "        # output layer\n",
        "        self.fc2 = nn.Linear(hidden_dim, num_classes)  \n",
        "    \n",
        "    def forward(self, x):\n",
        "        # x has shape (batch_size, max_sent_len)\n",
        "\n",
        "        embedded = self.embedding(x)\n",
        "        # `embedding` has shape (batch size, max_sent_len, embedding dim)\n",
        "\n",
        "        ########################################################################\n",
        "        # Q: Compute the average embeddings of shape (batch_size, embedding_dim)\n",
        "        ########################################################################\n",
        "        # Implement averaging that ignores padding (average using actual sentence lengths).\n",
        "        # How this effect the result?\n",
        "        non_zero_mask = embedded.abs().sum(dim=(0, 2)).bool()\n",
        "        \n",
        "        embedded = embedded[:, non_zero_mask, :]\n",
        "        averaged = embedded.mean(1)\n",
        "\n",
        "        out = self.fc1(averaged)\n",
        "        out = self.relu1(out)\n",
        "        out = self.fc2(out)\n",
        "\n",
        "        return out"
      ]
    },
    {
      "cell_type": "markdown",
      "metadata": {
        "colab_type": "text",
        "id": "PcAI5BtaQMFh"
      },
      "source": [
        "## Training the model\n",
        "\n",
        "In this section we will define the hyperparameters of our model, the loss function, the optimizer and perform a number of training epochs over our toy training corpus.\n",
        "\n",
        "We will use the **Stochastic gradient descent (SGD)** optimizer. The learning rate hyperparameter of the optimizer controls how the weights are adjusted with respect to the loss gradient. The lower the value, the more fine-grained are weight updates.\n",
        "\n",
        "**Note that** it is a common practise to perform training using mini-batches (sets of training instances seen by the model during weight update step). In this case, the epoch loss is defined as the loss averaged across the mini-batches. Since our corpus is very small, we train on the whole training set without batching.\n",
        "\n",
        "---\n",
        "\n",
        "__Why is the number of output classes is equal to 1 for binary classification?__ We represent 0 as the negative class and 1 as the positive class.\n",
        "\n",
        "\n",
        "__Q: Try to modify the learning rate (which is initially set to 0.5 below) in the range $[0.0001, 0.5]$. How does the loss react to these changes?__ The loss decreases slower when using a smaller learning rate."
      ]
    },
    {
      "cell_type": "code",
      "execution_count": 48,
      "metadata": {
        "colab": {},
        "colab_type": "code",
        "id": "wrtOwTUsyArb"
      },
      "outputs": [
        {
          "name": "stdout",
          "output_type": "stream",
          "text": [
            "FFNN(\n",
            "  (embedding): Embedding(47, 50, padding_idx=0)\n",
            "  (fc1): Linear(in_features=50, out_features=50, bias=True)\n",
            "  (relu1): ReLU()\n",
            "  (fc2): Linear(in_features=50, out_features=1, bias=True)\n",
            ")\n",
            "Will train for 10 epochs\n",
            "| Epoch: 01 | Train Loss: 0.693\n",
            "| Epoch: 02 | Train Loss: 0.676\n",
            "| Epoch: 03 | Train Loss: 0.660\n",
            "| Epoch: 04 | Train Loss: 0.644\n",
            "| Epoch: 05 | Train Loss: 0.624\n",
            "| Epoch: 06 | Train Loss: 0.602\n",
            "| Epoch: 07 | Train Loss: 0.576\n",
            "| Epoch: 08 | Train Loss: 0.545\n",
            "| Epoch: 09 | Train Loss: 0.511\n",
            "| Epoch: 10 | Train Loss: 0.472\n"
          ]
        }
      ],
      "source": [
        "# Reset the seed before every model construction for reproducible results\n",
        "fix_seed()\n",
        "\n",
        "# we will train for N epochs (The model will see the corpus N times)\n",
        "EPOCHS = 10\n",
        "\n",
        "# Learning rate is initially set to 0.5\n",
        "LRATE = 0.75\n",
        "\n",
        "# we define our embedding dimension (dimensionality of the output of the first layer)\n",
        "EMBEDDING_DIM = 50\n",
        "\n",
        "# dimensionality of the output of the second hidden layer\n",
        "HIDDEN_DIM = 50\n",
        "\n",
        "# the output dimension is the number of classes, 1 for binary classification\n",
        "OUTPUT_DIM = 1\n",
        "\n",
        "# Construct the model\n",
        "model = FFNN(EMBEDDING_DIM, HIDDEN_DIM, len(word2idx), OUTPUT_DIM)\n",
        "\n",
        "# Print the model\n",
        "print(model)\n",
        "\n",
        "# we use the stochastic gradient descent (SGD) optimizer\n",
        "optimizer = optim.SGD(model.parameters(), lr=LRATE)\n",
        "\n",
        "# we use the binary cross-entropy loss with sigmoid (applied to logits) \n",
        "# Recall that we did not apply any activation to our output layer, hence we need\n",
        "# to make our outputs look like probabilities.\n",
        "loss_fn = nn.BCEWithLogitsLoss()\n",
        "\n",
        "# Input and label tensors\n",
        "feature = train_sent_tensor\n",
        "target = train_label_tensor\n",
        "\n",
        "################\n",
        "# Start training\n",
        "################\n",
        "print(f'Will train for {EPOCHS} epochs')\n",
        "for epoch in range(1, EPOCHS + 1):\n",
        "  # to ensure the dropout (explained later) is \"turned on\" while training\n",
        "  # good practice to include even if do not use here\n",
        "  model.train()\n",
        "  \n",
        "  # we zero the gradients as they are not removed automatically\n",
        "  optimizer.zero_grad()\n",
        "  \n",
        "  # squeeze is needed as the predictions will have the shape (batch size, 1)\n",
        "  # and we need to remove the dimension of size 1\n",
        "  predictions = model(feature).squeeze(1)\n",
        "\n",
        "  # Compute the loss\n",
        "  loss = loss_fn(predictions, target)\n",
        "  train_loss = loss.item()\n",
        "\n",
        "  # calculate the gradient of each parameter\n",
        "  loss.backward()\n",
        "\n",
        "  # update the parameters using the gradients and optimizer algorithm \n",
        "  optimizer.step()\n",
        "  \n",
        "  print(f'| Epoch: {epoch:02} | Train Loss: {train_loss:.3f}')"
      ]
    },
    {
      "cell_type": "markdown",
      "metadata": {
        "colab_type": "text",
        "id": "nwY-k6x0xIkl"
      },
      "source": [
        "## Measuring the accuracy\n",
        "\n",
        "In addition to measuring the loss, we can also evaluate the actual classification performance of our model. (In the case of training with mini-batches, the epoch accuracy is defined as the accuracy averaged across the mini-batches.)\n",
        "\n",
        "---\n",
        "\n",
        "**Q: Fill in the below function so that it computes the accuracy of the model. Once you are done, improve the loop so that it also prints the training accuracy after each epoch.**"
      ]
    },
    {
      "cell_type": "code",
      "execution_count": 61,
      "metadata": {
        "colab": {},
        "colab_type": "code",
        "id": "0R23R0XjuPTn"
      },
      "outputs": [],
      "source": [
        "def accuracy(output, target):\n",
        "  #####################################\n",
        "  # Q: Return the accuracy of the model\n",
        "  #####################################\n",
        "  output_binary = torch.where(output > 0, 1, 0)\n",
        "  agreement = torch.tensor(output_binary == target)\n",
        "  return agreement.sum() / len(target)"
      ]
    },
    {
      "cell_type": "code",
      "execution_count": 62,
      "metadata": {
        "colab": {},
        "colab_type": "code",
        "id": "9eP2s5MyyrNO"
      },
      "outputs": [
        {
          "name": "stdout",
          "output_type": "stream",
          "text": [
            "FFNN(\n",
            "  (embedding): Embedding(47, 50, padding_idx=0)\n",
            "  (fc1): Linear(in_features=50, out_features=50, bias=True)\n",
            "  (relu1): ReLU()\n",
            "  (fc2): Linear(in_features=50, out_features=1, bias=True)\n",
            ")\n",
            "Will train for 10 epochs\n",
            "| Epoch: 1 | Train Loss: 0.693 | Train Acc: 60.00%\n",
            "| Epoch: 2 | Train Loss: 0.682 | Train Acc: 70.00%\n",
            "| Epoch: 3 | Train Loss: 0.671 | Train Acc: 70.00%\n",
            "| Epoch: 4 | Train Loss: 0.660 | Train Acc: 70.00%\n",
            "| Epoch: 5 | Train Loss: 0.649 | Train Acc: 80.00%\n",
            "| Epoch: 6 | Train Loss: 0.636 | Train Acc: 90.00%\n",
            "| Epoch: 7 | Train Loss: 0.623 | Train Acc: 100.00%\n",
            "| Epoch: 8 | Train Loss: 0.608 | Train Acc: 100.00%\n",
            "| Epoch: 9 | Train Loss: 0.591 | Train Acc: 100.00%\n",
            "| Epoch: 10 | Train Loss: 0.572 | Train Acc: 100.00%\n"
          ]
        },
        {
          "name": "stderr",
          "output_type": "stream",
          "text": [
            "/var/folders/yz/dhn6mtrd1kv6qzd7sv79pnkw0000gn/T/ipykernel_31560/3082307219.py:6: UserWarning: To copy construct from a tensor, it is recommended to use sourceTensor.clone().detach() or sourceTensor.clone().detach().requires_grad_(True), rather than torch.tensor(sourceTensor).\n",
            "  agreement = torch.tensor(output_binary == target)\n"
          ]
        }
      ],
      "source": [
        "# Reset the seed for consistent results\n",
        "fix_seed()\n",
        "\n",
        "# we will train for N epochs (The model will see the corpus N times)\n",
        "EPOCHS = 10\n",
        "\n",
        "# Learning rate is initially set to 0.5\n",
        "LRATE = 0.5\n",
        "\n",
        "# we define our embedding dimension (dimensionality of the output of the first layer)\n",
        "EMBEDDING_DIM = 50\n",
        "\n",
        "# dimensionality of the output of the second hidden layer\n",
        "HIDDEN_DIM = 50\n",
        "\n",
        "# the output dimension is the number of classes, 1 for binary classification\n",
        "OUTPUT_DIM = 1\n",
        "\n",
        "# Construct the model\n",
        "model = FFNN(EMBEDDING_DIM, HIDDEN_DIM, len(word2idx), OUTPUT_DIM)\n",
        "\n",
        "# Print the model\n",
        "print(model)\n",
        "\n",
        "# we use the stochastic gradient descent (SGD) optimizer\n",
        "optimizer = optim.SGD(model.parameters(), lr=LRATE)\n",
        "\n",
        "# we use the binary cross-entropy loss with sigmoid (applied to logits) \n",
        "# Recall that we did not apply any activation to our output layer, hence we need\n",
        "# to make our outputs look like probabilities.\n",
        "loss_fn = nn.BCEWithLogitsLoss()\n",
        "\n",
        "# Input and label tensors\n",
        "feature = train_sent_tensor\n",
        "target = train_label_tensor\n",
        "\n",
        "################\n",
        "# Start training\n",
        "################\n",
        "print(f'Will train for {EPOCHS} epochs')\n",
        "\n",
        "for epoch in range(1, EPOCHS + 1):\n",
        "    # to ensure the dropout (explained later) is \"turned on\" while training\n",
        "    # good practice to include even if do not use here\n",
        "    model.train()\n",
        "\n",
        "    # we zero the gradients as they are not removed automatically\n",
        "    optimizer.zero_grad()\n",
        "\n",
        "    # squeeze is needed as the predictions will have the shape (batch size, 1)\n",
        "    # and we need to remove the dimension of size 1\n",
        "    predictions = model(feature).squeeze(1)\n",
        "\n",
        "    # Compute the loss\n",
        "    loss = loss_fn(predictions, target)\n",
        "    train_loss = loss.item()\n",
        "\n",
        "    #####################\n",
        "    # Q: Compute accuracy\n",
        "    #####################\n",
        "    train_acc = accuracy(predictions, target)\n",
        "\n",
        "    # calculate the gradient of each parameter\n",
        "    loss.backward()\n",
        "\n",
        "    # update the parameters using the gradients and optimizer algorithm \n",
        "    optimizer.step()\n",
        "\n",
        "    print(f'| Epoch: {epoch} | Train Loss: {train_loss:.3f} | Train Acc: {train_acc*100:.2f}%')\n",
        "\n"
      ]
    },
    {
      "cell_type": "markdown",
      "metadata": {
        "colab_type": "text",
        "id": "C2UhMGlMq3Re"
      },
      "source": [
        "## Hyperparameter tuning on the validation set\n",
        "\n",
        "You should now apply the previous pre-processing and input preparation procedures to the validation set as well.\n",
        "\n",
        "---\n",
        "\n",
        "**Q: Should we re-use the word to index dictionary we created before? Why?** Yes because it contains the mappings from words to one-hot encoders we need in order for the embedding layer to map this into its dense representations. If we change this, the one-hot vectors will change just by how the ordering of the vocabulary appears, and will lead to the wrong embeddings.\n",
        " "
      ]
    },
    {
      "cell_type": "code",
      "execution_count": 63,
      "metadata": {
        "colab": {},
        "colab_type": "code",
        "id": "i9_FERooxUQR"
      },
      "outputs": [
        {
          "name": "stdout",
          "output_type": "stream",
          "text": [
            "tensor([[ 1,  2,  4,  0,  0,  0],\n",
            "        [ 1, 12, 13,  0,  0,  0],\n",
            "        [ 6,  7,  5,  7,  8,  4],\n",
            "        [11, 27, 25, 36,  0,  0],\n",
            "        [ 1, 14, 15,  0,  0,  0],\n",
            "        [39, 46,  0,  0,  0,  0]])\n",
            "Validation Accuracy: 100.00%\n"
          ]
        },
        {
          "name": "stderr",
          "output_type": "stream",
          "text": [
            "/var/folders/yz/dhn6mtrd1kv6qzd7sv79pnkw0000gn/T/ipykernel_31560/3082307219.py:6: UserWarning: To copy construct from a tensor, it is recommended to use sourceTensor.clone().detach() or sourceTensor.clone().detach().requires_grad_(True), rather than torch.tensor(sourceTensor).\n",
            "  agreement = torch.tensor(output_binary == target)\n"
          ]
        }
      ],
      "source": [
        "###############################################\n",
        "# Q: Prepare the validation corpus and labels #\n",
        "###############################################\n",
        "tokenized_valid_corpus = get_tokenized_corpus(valid)\n",
        "\n",
        "valid_sent_tensor, valid_label_tensor = get_model_inputs(tokenized_valid_corpus, \n",
        "                                                         word2idx, valid_labels)\n",
        "\n",
        "print(valid_sent_tensor)\n",
        "\n",
        "feature_valid = valid_sent_tensor\n",
        "target_valid = valid_label_tensor\n",
        "\n",
        "predictions_valid = model(feature_valid).squeeze(1)\n",
        "valid_acc = accuracy(predictions_valid, target_valid)\n",
        "\n",
        "print(f\"Validation Accuracy: {100*valid_acc:.2f}%\")"
      ]
    },
    {
      "cell_type": "markdown",
      "metadata": {
        "colab_type": "text",
        "id": "WUlXfydh1Uxv"
      },
      "source": [
        "**Q: Try to modify the learning rate and the number of epochs now. How will the validation loss and accuracy react to those changes?**"
      ]
    },
    {
      "cell_type": "code",
      "execution_count": 89,
      "metadata": {
        "colab": {},
        "colab_type": "code",
        "id": "rcKPET9BHb-7"
      },
      "outputs": [
        {
          "name": "stdout",
          "output_type": "stream",
          "text": [
            "Will train for 10 epochs\n",
            "| Epoch: 01 | Train Loss: 0.693 | Train Acc:  60.00% | Val. Loss: 0.672 | Val. Acc:  66.67% |\n",
            "| Epoch: 02 | Train Loss: 0.682 | Train Acc:  70.00% | Val. Loss: 0.664 | Val. Acc:  66.67% |\n",
            "| Epoch: 03 | Train Loss: 0.671 | Train Acc:  70.00% | Val. Loss: 0.656 | Val. Acc:  66.67% |\n",
            "| Epoch: 04 | Train Loss: 0.660 | Train Acc:  70.00% | Val. Loss: 0.647 | Val. Acc:  66.67% |\n",
            "| Epoch: 05 | Train Loss: 0.649 | Train Acc:  80.00% | Val. Loss: 0.638 | Val. Acc:  83.33% |\n",
            "| Epoch: 06 | Train Loss: 0.636 | Train Acc:  90.00% | Val. Loss: 0.626 | Val. Acc: 100.00% |\n",
            "| Epoch: 07 | Train Loss: 0.623 | Train Acc: 100.00% | Val. Loss: 0.613 | Val. Acc: 100.00% |\n",
            "| Epoch: 08 | Train Loss: 0.608 | Train Acc: 100.00% | Val. Loss: 0.598 | Val. Acc: 100.00% |\n",
            "| Epoch: 09 | Train Loss: 0.591 | Train Acc: 100.00% | Val. Loss: 0.581 | Val. Acc: 100.00% |\n",
            "| Epoch: 10 | Train Loss: 0.572 | Train Acc: 100.00% | Val. Loss: 0.561 | Val. Acc: 100.00% |\n"
          ]
        },
        {
          "name": "stderr",
          "output_type": "stream",
          "text": [
            "/var/folders/yz/dhn6mtrd1kv6qzd7sv79pnkw0000gn/T/ipykernel_31560/3082307219.py:6: UserWarning: To copy construct from a tensor, it is recommended to use sourceTensor.clone().detach() or sourceTensor.clone().detach().requires_grad_(True), rather than torch.tensor(sourceTensor).\n",
            "  agreement = torch.tensor(output_binary == target)\n"
          ]
        }
      ],
      "source": [
        "# Reset the seed for consistent results\n",
        "fix_seed()\n",
        "\n",
        "# we will train for N epochs (The model will see the corpus N times)\n",
        "EPOCHS = 10\n",
        "\n",
        "# Learning rate is initially set to 0.5\n",
        "LRATE = 0.5\n",
        "\n",
        "# we define our embedding dimension (dimensionality of the output of the first layer)\n",
        "EMBEDDING_DIM = 50\n",
        "\n",
        "# dimensionality of the output of the second hidden layer\n",
        "HIDDEN_DIM = 50\n",
        "\n",
        "# the output dimension is the number of classes, 1 for binary classification\n",
        "OUTPUT_DIM = 1\n",
        "\n",
        "# Construct the model\n",
        "model = FFNN(EMBEDDING_DIM, HIDDEN_DIM, len(word2idx), OUTPUT_DIM)\n",
        "\n",
        "# we use the stochastic gradient descent (SGD) optimizer\n",
        "optimizer = optim.SGD(model.parameters(), lr=LRATE)\n",
        "\n",
        "# we use the binary cross-entropy loss with sigmoid (applied to logits) \n",
        "# Recall that we did not apply any activation to our output layer, hence we need\n",
        "# to make our outputs look like probabilities.\n",
        "loss_fn = nn.BCEWithLogitsLoss()\n",
        "\n",
        "# Input and label tensors for training\n",
        "feature_train = train_sent_tensor\n",
        "target_train = train_label_tensor\n",
        "\n",
        "# Input and label tensors for validation\n",
        "feature_valid = valid_sent_tensor\n",
        "target_valid = valid_label_tensor\n",
        "\n",
        "################\n",
        "# Start training\n",
        "################\n",
        "print(f'Will train for {EPOCHS} epochs')\n",
        "for epoch in range(1, EPOCHS + 1):\n",
        "  # to ensure the dropout (explained later) is \"turned on\" while training\n",
        "  # good practice to include even if do not use here\n",
        "  model.train()\n",
        "  \n",
        "  # we zero the gradients as they are not removed automatically\n",
        "  optimizer.zero_grad()\n",
        "  \n",
        "  # squeeze is needed as the predictions will have the shape (batch size, 1)\n",
        "  # and we need to remove the dimension of size 1\n",
        "  predictions = model(feature_train).squeeze(1)\n",
        "\n",
        "  # Compute the loss\n",
        "  loss = loss_fn(predictions, target_train)\n",
        "  train_loss = loss.item()\n",
        "\n",
        "  # Compute training accuracy\n",
        "  train_acc = accuracy(predictions, target_train)\n",
        "\n",
        "  # calculate the gradient of each parameter\n",
        "  loss.backward()\n",
        "\n",
        "  # update the parameters using the gradients and optimizer algorithm \n",
        "  optimizer.step()\n",
        "  \n",
        "  # this puts the model in \"evaluation mode\" (turns off dropout and batch normalization)\n",
        "  # good practise to include even if we do not use them right now\n",
        "  model.eval()\n",
        "\n",
        "  # we do not compute gradients within this block, i.e. no training\n",
        "  with torch.no_grad():\n",
        "    predictions_valid = model(feature_valid).squeeze(1)\n",
        "    valid_loss = loss_fn(predictions_valid, target_valid).item()\n",
        "    valid_acc = accuracy(predictions_valid, target_valid)\n",
        "  \n",
        "  print(f'| Epoch: {epoch:02} | Train Loss: {train_loss:.3f} | Train Acc: {train_acc*100:6.2f}% | Val. Loss: {valid_loss:.3f} | Val. Acc: {valid_acc*100:6.2f}% |')"
      ]
    },
    {
      "cell_type": "markdown",
      "metadata": {
        "colab_type": "text",
        "id": "npzWXeQATPs4"
      },
      "source": [
        "## Testing the model\n",
        "\n",
        "Now let us test our trained model. We define a small test set below. First, apply the data preparation procedures to this test set as you did for the validation set.\n"
      ]
    },
    {
      "cell_type": "code",
      "execution_count": 90,
      "metadata": {
        "colab": {},
        "colab_type": "code",
        "id": "5Cx2eJi1a8R6"
      },
      "outputs": [
        {
          "name": "stdout",
          "output_type": "stream",
          "text": [
            "tensor([[ 1, 10, 11,  2,  4],\n",
            "        [18, 19,  0,  0,  0],\n",
            "        [26,  7,  4,  5,  0],\n",
            "        [37,  0,  0,  0,  0],\n",
            "        [37, 34, 36,  5,  0],\n",
            "        [11, 45,  0,  0,  0]])\n"
          ]
        }
      ],
      "source": [
        "test = ['i really do not like your paper', \n",
        "        'well done', \n",
        "        'good results for a paper !',\n",
        "        'amazing effort', \n",
        "        'your effort is poor !', \n",
        "        'not impressed'   \n",
        "]\n",
        "\n",
        "test_labels = [0, 1, 1, 1, 0, 0]\n",
        "\n",
        "#########################################\n",
        "# Q: Prepare the test corpus and labels #\n",
        "tokenized_test_corpus = get_tokenized_corpus(test)\n",
        "test_sent_tensor, test_label_tensor = get_model_inputs(tokenized_test_corpus, \n",
        "                                                       word2idx, test_labels)\n",
        "\n",
        "print(test_sent_tensor)"
      ]
    },
    {
      "cell_type": "markdown",
      "metadata": {
        "colab_type": "text",
        "id": "a0A1Iu-p4FUL"
      },
      "source": [
        "**Q: Fill in the below function for the computation of F-measure. Once done, complete the missing lines in the final evaluation part.**"
      ]
    },
    {
      "cell_type": "code",
      "execution_count": 91,
      "metadata": {
        "colab": {},
        "colab_type": "code",
        "id": "ixhvaYkW_SfX"
      },
      "outputs": [
        {
          "name": "stdout",
          "output_type": "stream",
          "text": [
            "tensor([1, 0, 1, 0, 0, 0])\n",
            "Test Loss: 0.681 | Test Acc: 50.00%\n",
            "     Recall: 0.33, Precision: 0.50, F-measure: 0.40\n"
          ]
        },
        {
          "name": "stderr",
          "output_type": "stream",
          "text": [
            "/var/folders/yz/dhn6mtrd1kv6qzd7sv79pnkw0000gn/T/ipykernel_31560/3082307219.py:6: UserWarning: To copy construct from a tensor, it is recommended to use sourceTensor.clone().detach() or sourceTensor.clone().detach().requires_grad_(True), rather than torch.tensor(sourceTensor).\n",
            "  agreement = torch.tensor(output_binary == target)\n"
          ]
        }
      ],
      "source": [
        "def f_measure(output, gold):\n",
        "  ############################################\n",
        "  # Q: Compute precision, recall and f-measure \n",
        "  ############################################\n",
        "  output_binary = torch.where(output > 0, 1, 0)\n",
        "  target_binary = torch.tensor(gold, dtype=torch.int)\n",
        "  \n",
        "  true_positives = torch.logical_and(output_binary, target_binary)\n",
        "\n",
        "  precision = true_positives.sum() / output_binary.sum()\n",
        "  recall = true_positives.sum() / target_binary.sum()\n",
        "  fscore = 2 * precision * recall / (precision + recall)\n",
        "\n",
        "  # Print them\n",
        "  print(f\"     Recall: {recall:.2f}, Precision: {precision:.2f}, F-measure: {fscore:.2f}\")\n",
        "  \n",
        "\n",
        "####\n",
        "\n",
        "model.eval()\n",
        "\n",
        "feature_test = test_sent_tensor\n",
        "target_test = test_label_tensor\n",
        "\n",
        "with torch.no_grad():\n",
        "  ####################################################################\n",
        "  # Q: Get predictions for the test set, compute the loss and accuracy\n",
        "  ####################################################################\n",
        "  predictions = model(feature_test).squeeze(1)\n",
        "  print(torch.where(predictions > 0, 1, 0))\n",
        "  test_loss = nn.BCEWithLogitsLoss()(predictions, target_test)\n",
        "  test_acc = accuracy(predictions, target_test)\n",
        "\n",
        "  # Print\n",
        "  print(f'Test Loss: {test_loss:.3f} | Test Acc: {test_acc*100:.2f}%')\n",
        "  f_measure(predictions, test_labels)  "
      ]
    },
    {
      "cell_type": "markdown",
      "metadata": {
        "colab_type": "text",
        "id": "ofMn0IjZ3lUr"
      },
      "source": [
        "**Q:  Are the resulting evaluations different ? How do you interpret those differences? Print the predictions.** The model both misses examples that should be positive and predicts some negative examples as positive. Therefore, the model is overfitting on the training set.\n",
        "\n",
        "Results are `[1, 0, 1, 0, 0, 0]`"
      ]
    },
    {
      "cell_type": "markdown",
      "metadata": {
        "colab_type": "text",
        "id": "u2znwTJeU3UT"
      },
      "source": [
        "# Building the Convolutional Neural Network (CNN)\n",
        "\n",
        "We will implement a model inspired by the state-of-art CNN model as described in [Convolutional Neural Networks for Sentence Classification (Kim, 2014)](https://arxiv.org/abs/1408.5882).\n",
        "\n",
        "Similar to the FFNN model, we start with an embedding layer. We implement the convolutional layer with the help of `nn.Conv2d` and use the ReLU activation after it. The above-mentioned paper, being inspired by the convolution for images, applies a 2-dimensional convolution: a (window size, embedding dimension) filter. It covers `n` sequential words, taking embedding dimensions as the width. We then pass the tensors through a **max pooling layer**.\n",
        "\n",
        "The **max pooling layer** is typically followed by a **dropout** layer. The latter sets a random set of activations in the max-pooling layer to zero. This prevents the network from learning to rely on specific weights and helps to prevent overfitting. Note that the dropout layer is only used during training, and not during test time.\n",
        "\n",
        "---\n",
        "\n",
        "**Q: Study the shapes of outputs coming from convolution and max pooling layers. What is the shape of the max pooling layer output?**"
      ]
    },
    {
      "cell_type": "code",
      "execution_count": 92,
      "metadata": {
        "colab": {},
        "colab_type": "code",
        "id": "NUPETZaOgvgB"
      },
      "outputs": [],
      "source": [
        "class CNN(nn.Module):\n",
        "  def __init__(self, vocab_size, embedding_dim, out_channels, window_size, output_dim, dropout):\n",
        "    super(CNN, self).__init__()\n",
        "    \n",
        "    # Create the embedding layer as usual\n",
        "    self.embedding = nn.Embedding(vocab_size, embedding_dim, padding_idx=0)\n",
        "    \n",
        "    # in_channels -- 1 text channel\n",
        "    # out_channels -- the number of output channels\n",
        "    # kernel_size is (window size x embedding dim)\n",
        "    self.conv = nn.Conv2d(\n",
        "      in_channels=1, out_channels=out_channels,\n",
        "      kernel_size=(window_size, embedding_dim))\n",
        "    \n",
        "    # the dropout layer\n",
        "    self.dropout = nn.Dropout(dropout)\n",
        "\n",
        "    # the output layer\n",
        "    self.fc = nn.Linear(out_channels, output_dim)\n",
        "        \n",
        "  def forward(self, x):\n",
        "    # x -> (batch size, max_sent_length)\n",
        "    \n",
        "    embedded = self.embedding(x)\n",
        "    # embedded -> (batch size, max_sent_length, embedding_dim)\n",
        "    \n",
        "    # images have 3 RGB channels \n",
        "    # for the text we add 1 channel\n",
        "    embedded = embedded.unsqueeze(1)\n",
        "    # embedded -> (batch size, 1, max_sent_length, embedding dim)\n",
        "\n",
        "    # Compute the feature maps      \n",
        "    feature_maps = self.conv(embedded)\n",
        "\n",
        "    ##########################################\n",
        "    # Q: What is the shape of `feature_maps` ?\n",
        "    # batch_size x channels x (max_sent_length - window_size + 1) x 1\n",
        "    ##########################################\n",
        "    \n",
        "    feature_maps = feature_maps.squeeze(3)\n",
        "    \n",
        "    ##########################################\n",
        "    # Q: why do we remove 1 dimension here?\n",
        "    # To remove the embedded dimension which is now 1\n",
        "    ##########################################\n",
        "    \n",
        "    # Apply ReLU\n",
        "    feature_maps = F.relu(feature_maps)\n",
        "    \n",
        "    # Apply the max pooling layer\n",
        "    pooled = F.max_pool1d(feature_maps, feature_maps.shape[2])\n",
        "    \n",
        "    pooled = pooled.squeeze(2)\n",
        "\n",
        "    ####################################\n",
        "    # Q: What is the shape of `pooled` ?\n",
        "    # batch_size x channels\n",
        "    ####################################\n",
        "    \n",
        "    dropped = self.dropout(pooled)\n",
        "    preds = self.fc(dropped)\n",
        "    \n",
        "    return preds"
      ]
    },
    {
      "cell_type": "markdown",
      "metadata": {
        "colab_type": "text",
        "id": "7UZroMvLtFVv"
      },
      "source": [
        "## Training and testing the CNN\n",
        "\n",
        "Here we will define the CNN-specific hyperparameters and perform the network training and testing. **Note that** the learning rate is initially set to 0.1."
      ]
    },
    {
      "cell_type": "code",
      "execution_count": 94,
      "metadata": {
        "colab": {},
        "colab_type": "code",
        "id": "Lq1lcWbqRwNY"
      },
      "outputs": [
        {
          "name": "stdout",
          "output_type": "stream",
          "text": [
            "Will train for 10 epochs\n",
            "| Epoch: 01 | Train Loss: 0.712 | Train Acc:  60.00% | Val. Loss: 0.666 | Val. Acc:  50.00% |\n",
            "| Epoch: 02 | Train Loss: 0.657 | Train Acc:  60.00% | Val. Loss: 0.647 | Val. Acc:  83.33% |\n",
            "| Epoch: 03 | Train Loss: 0.532 | Train Acc: 100.00% | Val. Loss: 0.616 | Val. Acc:  83.33% |\n",
            "| Epoch: 04 | Train Loss: 0.507 | Train Acc:  90.00% | Val. Loss: 0.586 | Val. Acc:  83.33% |\n",
            "| Epoch: 05 | Train Loss: 0.500 | Train Acc:  90.00% | Val. Loss: 0.561 | Val. Acc: 100.00% |\n",
            "| Epoch: 06 | Train Loss: 0.382 | Train Acc: 100.00% | Val. Loss: 0.538 | Val. Acc:  83.33% |\n",
            "| Epoch: 07 | Train Loss: 0.356 | Train Acc: 100.00% | Val. Loss: 0.512 | Val. Acc:  83.33% |\n",
            "| Epoch: 08 | Train Loss: 0.407 | Train Acc: 100.00% | Val. Loss: 0.489 | Val. Acc:  83.33% |\n",
            "| Epoch: 09 | Train Loss: 0.354 | Train Acc: 100.00% | Val. Loss: 0.462 | Val. Acc:  83.33% |\n",
            "| Epoch: 10 | Train Loss: 0.339 | Train Acc: 100.00% | Val. Loss: 0.443 | Val. Acc:  83.33% |\n",
            "tensor([1, 1, 1, 0, 0, 0])\n",
            "Test Loss: 0.620 | Test Acc: 66.67%\n",
            "     Recall: 0.67, Precision: 0.67, F-measure: 0.67\n"
          ]
        },
        {
          "name": "stderr",
          "output_type": "stream",
          "text": [
            "/var/folders/yz/dhn6mtrd1kv6qzd7sv79pnkw0000gn/T/ipykernel_31560/3082307219.py:6: UserWarning: To copy construct from a tensor, it is recommended to use sourceTensor.clone().detach() or sourceTensor.clone().detach().requires_grad_(True), rather than torch.tensor(sourceTensor).\n",
            "  agreement = torch.tensor(output_binary == target)\n"
          ]
        }
      ],
      "source": [
        "fix_seed()\n",
        "\n",
        "EPOCHS = 10\n",
        "LRATE = 0.1\n",
        "\n",
        "EMBEDDING_DIM = 50\n",
        "OUTPUT_DIM = 1\n",
        "\n",
        "# the hyperparameters specific to CNN\n",
        "# we define the number of filters\n",
        "N_OUT_CHANNELS = 100\n",
        "\n",
        "# we define the window size\n",
        "WINDOW_SIZE = 1\n",
        "\n",
        "# we apply the dropout with the probability 0.2\n",
        "DROPOUT = 0.2\n",
        "\n",
        "# Construct the model\n",
        "model = CNN(len(word2idx), EMBEDDING_DIM, N_OUT_CHANNELS, WINDOW_SIZE, OUTPUT_DIM, DROPOUT)\n",
        "\n",
        "optimizer = optim.SGD(model.parameters(), lr=LRATE)\n",
        "loss_fn = nn.BCEWithLogitsLoss()\n",
        "\n",
        "feature_train = train_sent_tensor\n",
        "target_train = train_label_tensor\n",
        "\n",
        "feature_valid = valid_sent_tensor\n",
        "target_valid = valid_label_tensor\n",
        "\n",
        "feature_test = test_sent_tensor\n",
        "target_test = test_label_tensor\n",
        "\n",
        "################\n",
        "# Start training\n",
        "################\n",
        "print(f'Will train for {EPOCHS} epochs')\n",
        "for epoch in range(1, EPOCHS + 1):\n",
        "  model.train()\n",
        "  \n",
        "  optimizer.zero_grad()\n",
        "\n",
        "  predictions = model(feature_train).squeeze(1)\n",
        "  loss = loss_fn(predictions, target_train)\n",
        "  train_loss = loss.item()\n",
        "  train_acc = accuracy(predictions, target_train)\n",
        "\n",
        "  loss.backward()\n",
        "\n",
        "  optimizer.step()\n",
        "\n",
        "  model.eval()\n",
        "  with torch.no_grad():\n",
        "    predictions_valid = model(feature_valid).squeeze(1)\n",
        "    valid_loss = loss_fn(predictions_valid, target_valid).item()\n",
        "    valid_acc = accuracy(predictions_valid, target_valid)\n",
        "  \n",
        "  print(f'| Epoch: {epoch:02} | Train Loss: {train_loss:.3f} | Train Acc: {train_acc*100:6.2f}% | Val. Loss: {valid_loss:.3f} | Val. Acc: {valid_acc*100:6.2f}% |')\n",
        "\n",
        "\n",
        "## Finally, test on the test set\n",
        "model.eval()\n",
        "\n",
        "with torch.no_grad():\n",
        "    predictions = model(feature_test).squeeze(1)\n",
        "    print(torch.where(predictions > 0, 1, 0))\n",
        "    loss = loss_fn(predictions, target_test)\n",
        "    acc = accuracy(predictions, target_test)\n",
        "    print(f'Test Loss: {loss:.3f} | Test Acc: {acc*100:.2f}%')\n",
        "    f_measure(predictions, test_labels)"
      ]
    },
    {
      "cell_type": "markdown",
      "metadata": {
        "colab_type": "text",
        "id": "5si3n_wf-ImU"
      },
      "source": [
        "**Q: Is the performance of CNN different from the performance of FFNN? Output predictions.**\n",
        "\n",
        "Results are `[1, 1, 1, 0, 0, 0]`, and it is a bit better.\n",
        "\n",
        "**Q: Is padding necessary for CNN inputs? What is the role of the window size?** Padding is necessary because the convolutional filter must be the same size for all examples, so we need to make its row length equal to the maximum sentence length in the dataset and pad all other examples.\n",
        "\n",
        "Window size allows us to consider other words in the neighbourhood of others, allowing us to do some contextual analysis."
      ]
    },
    {
      "cell_type": "markdown",
      "metadata": {
        "colab_type": "text",
        "id": "f4VCX4XSqvlu"
      },
      "source": [
        "## Initializing CNN with pre-trained representations\n",
        "\n",
        "The work [Convolutional Neural Networks for Sentence Classification (Kim, 2014)](https://arxiv.org/abs/1408.5882) also investigates the exploitation of pre-trained embeddings and demonstrates the efficiency of using them.\n",
        "\n",
        "First, download the embeddings and unzip them below:"
      ]
    },
    {
      "cell_type": "code",
      "execution_count": 95,
      "metadata": {
        "colab": {},
        "colab_type": "code",
        "id": "PgvTCi68lOGn"
      },
      "outputs": [
        {
          "name": "stdout",
          "output_type": "stream",
          "text": [
            "--2022-03-17 18:36:39--  http://nlp.stanford.edu/data/glove.6B.zip\n",
            "Resolving nlp.stanford.edu (nlp.stanford.edu)... 171.64.67.140\n",
            "Connecting to nlp.stanford.edu (nlp.stanford.edu)|171.64.67.140|:80... connected.\n",
            "HTTP request sent, awaiting response... 302 Found\n",
            "Location: https://nlp.stanford.edu/data/glove.6B.zip [following]\n",
            "--2022-03-17 18:36:39--  https://nlp.stanford.edu/data/glove.6B.zip\n",
            "Connecting to nlp.stanford.edu (nlp.stanford.edu)|171.64.67.140|:443... connected.\n",
            "HTTP request sent, awaiting response... 301 Moved Permanently\n",
            "Location: http://downloads.cs.stanford.edu/nlp/data/glove.6B.zip [following]\n",
            "--2022-03-17 18:36:40--  http://downloads.cs.stanford.edu/nlp/data/glove.6B.zip\n",
            "Resolving downloads.cs.stanford.edu (downloads.cs.stanford.edu)... 171.64.64.22\n",
            "Connecting to downloads.cs.stanford.edu (downloads.cs.stanford.edu)|171.64.64.22|:80... connected.\n",
            "HTTP request sent, awaiting response... 200 OK\n",
            "Length: 862182613 (822M) [application/zip]\n",
            "Saving to: ‘glove.6B.zip’\n",
            "\n",
            "glove.6B.zip        100%[===================>] 822.24M  3.16MB/s    in 3m 50s  \n",
            "\n",
            "2022-03-17 18:40:30 (3.58 MB/s) - ‘glove.6B.zip’ saved [862182613/862182613]\n",
            "\n"
          ]
        }
      ],
      "source": [
        "!wget http://nlp.stanford.edu/data/glove.6B.zip"
      ]
    },
    {
      "cell_type": "code",
      "execution_count": 96,
      "metadata": {
        "colab": {},
        "colab_type": "code",
        "id": "kq8ou3Y0CSQh"
      },
      "outputs": [
        {
          "name": "stdout",
          "output_type": "stream",
          "text": [
            "Archive:  glove.6B.zip\n",
            "  inflating: glove.6B.50d.txt        \n",
            "  inflating: glove.6B.100d.txt       \n",
            "  inflating: glove.6B.200d.txt       \n",
            "  inflating: glove.6B.300d.txt       \n"
          ]
        }
      ],
      "source": [
        "# Unzip the file: 4 different embedding sizes are provided\n",
        "!unzip glove.6B.zip"
      ]
    },
    {
      "cell_type": "code",
      "execution_count": 97,
      "metadata": {
        "colab": {},
        "colab_type": "code",
        "id": "afclMKCYLYT9"
      },
      "outputs": [
        {
          "name": "stdout",
          "output_type": "stream",
          "text": [
            "the 0.418 0.24968 -0.41242 0.1217 0.34527 -0.044457 -0.49688 -0.17862 -0.00066023 -0.6566 0.27843 -0.14767 -0.55677 0.14658 -0.0095095 0.011658 0.10204 -0.12792 -0.8443 -0.12181 -0.016801 -0.33279 -0.1552 -0.23131 -0.19181 -1.8823 -0.76746 0.099051 -0.42125 -0.19526 4.0071 -0.18594 -0.52287 -0.31681 0.00059213 0.0074449 0.17778 -0.15897 0.012041 -0.054223 -0.29871 -0.15749 -0.34758 -0.045637 -0.44251 0.18785 0.0027849 -0.18411 -0.11514 -0.78581\n",
            ", 0.013441 0.23682 -0.16899 0.40951 0.63812 0.47709 -0.42852 -0.55641 -0.364 -0.23938 0.13001 -0.063734 -0.39575 -0.48162 0.23291 0.090201 -0.13324 0.078639 -0.41634 -0.15428 0.10068 0.48891 0.31226 -0.1252 -0.037512 -1.5179 0.12612 -0.02442 -0.042961 -0.28351 3.5416 -0.11956 -0.014533 -0.1499 0.21864 -0.33412 -0.13872 0.31806 0.70358 0.44858 -0.080262 0.63003 0.32111 -0.46765 0.22786 0.36034 -0.37818 -0.56657 0.044691 0.30392\n",
            ". 0.15164 0.30177 -0.16763 0.17684 0.31719 0.33973 -0.43478 -0.31086 -0.44999 -0.29486 0.16608 0.11963 -0.41328 -0.42353 0.59868 0.28825 -0.11547 -0.041848 -0.67989 -0.25063 0.18472 0.086876 0.46582 0.015035 0.043474 -1.4671 -0.30384 -0.023441 0.30589 -0.21785 3.746 0.0042284 -0.18436 -0.46209 0.098329 -0.11907 0.23919 0.1161 0.41705 0.056763 -6.3681e-05 0.068987 0.087939 -0.10285 -0.13931 0.22314 -0.080803 -0.35652 0.016413 0.10216\n",
            "of 0.70853 0.57088 -0.4716 0.18048 0.54449 0.72603 0.18157 -0.52393 0.10381 -0.17566 0.078852 -0.36216 -0.11829 -0.83336 0.11917 -0.16605 0.061555 -0.012719 -0.56623 0.013616 0.22851 -0.14396 -0.067549 -0.38157 -0.23698 -1.7037 -0.86692 -0.26704 -0.2589 0.1767 3.8676 -0.1613 -0.13273 -0.68881 0.18444 0.0052464 -0.33874 -0.078956 0.24185 0.36576 -0.34727 0.28483 0.075693 -0.062178 -0.38988 0.22902 -0.21617 -0.22562 -0.093918 -0.80375\n",
            "to 0.68047 -0.039263 0.30186 -0.17792 0.42962 0.032246 -0.41376 0.13228 -0.29847 -0.085253 0.17118 0.22419 -0.10046 -0.43653 0.33418 0.67846 0.057204 -0.34448 -0.42785 -0.43275 0.55963 0.10032 0.18677 -0.26854 0.037334 -2.0932 0.22171 -0.39868 0.20912 -0.55725 3.8826 0.47466 -0.95658 -0.37788 0.20869 -0.32752 0.12751 0.088359 0.16351 -0.21634 -0.094375 0.018324 0.21048 -0.03088 -0.19722 0.082279 -0.09434 -0.073297 -0.064699 -0.26044\n",
            "and 0.26818 0.14346 -0.27877 0.016257 0.11384 0.69923 -0.51332 -0.47368 -0.33075 -0.13834 0.2702 0.30938 -0.45012 -0.4127 -0.09932 0.038085 0.029749 0.10076 -0.25058 -0.51818 0.34558 0.44922 0.48791 -0.080866 -0.10121 -1.3777 -0.10866 -0.23201 0.012839 -0.46508 3.8463 0.31362 0.13643 -0.52244 0.3302 0.33707 -0.35601 0.32431 0.12041 0.3512 -0.069043 0.36885 0.25168 -0.24517 0.25381 0.1367 -0.31178 -0.6321 -0.25028 -0.38097\n",
            "in 0.33042 0.24995 -0.60874 0.10923 0.036372 0.151 -0.55083 -0.074239 -0.092307 -0.32821 0.09598 -0.82269 -0.36717 -0.67009 0.42909 0.016496 -0.23573 0.12864 -1.0953 0.43334 0.57067 -0.1036 0.20422 0.078308 -0.42795 -1.7984 -0.27865 0.11954 -0.12689 0.031744 3.8631 -0.17786 -0.082434 -0.62698 0.26497 -0.057185 -0.073521 0.46103 0.30862 0.12498 -0.48609 -0.0080272 0.031184 -0.36576 -0.42699 0.42164 -0.11666 -0.50703 -0.027273 -0.53285\n",
            "a 0.21705 0.46515 -0.46757 0.10082 1.0135 0.74845 -0.53104 -0.26256 0.16812 0.13182 -0.24909 -0.44185 -0.21739 0.51004 0.13448 -0.43141 -0.03123 0.20674 -0.78138 -0.20148 -0.097401 0.16088 -0.61836 -0.18504 -0.12461 -2.2526 -0.22321 0.5043 0.32257 0.15313 3.9636 -0.71365 -0.67012 0.28388 0.21738 0.14433 0.25926 0.23434 0.4274 -0.44451 0.13813 0.36973 -0.64289 0.024142 -0.039315 -0.26037 0.12017 -0.043782 0.41013 0.1796\n",
            "\" 0.25769 0.45629 -0.76974 -0.37679 0.59272 -0.063527 0.20545 -0.57385 -0.29009 -0.13662 0.32728 1.4719 -0.73681 -0.12036 0.71354 -0.46098 0.65248 0.48887 -0.51558 0.039951 -0.34307 -0.014087 0.86488 0.3546 0.7999 -1.4995 -1.8153 0.41128 0.23921 -0.43139 3.6623 -0.79834 -0.54538 0.16943 -0.82017 -0.3461 0.69495 -1.2256 -0.17992 -0.057474 0.030498 -0.39543 -0.38515 -1.0002 0.087599 -0.31009 -0.34677 -0.31438 0.75004 0.97065\n",
            "'s 0.23727 0.40478 -0.20547 0.58805 0.65533 0.32867 -0.81964 -0.23236 0.27428 0.24265 0.054992 0.16296 -1.2555 -0.086437 0.44536 0.096561 -0.16519 0.058378 -0.38598 0.086977 0.0033869 0.55095 -0.77697 -0.62096 0.092948 -2.5685 -0.67739 0.10151 -0.48643 -0.057805 3.1859 -0.017554 -0.16138 0.055486 -0.25885 -0.33938 -0.19928 0.26049 0.10478 -0.55934 -0.12342 0.65961 -0.51802 -0.82995 -0.082739 0.28155 -0.423 -0.27378 -0.007901 -0.030231\n"
          ]
        }
      ],
      "source": [
        "# Check the file format\n",
        "!head -n10 glove.6B.50d.txt"
      ]
    },
    {
      "cell_type": "markdown",
      "metadata": {
        "colab_type": "text",
        "id": "jMwxUcgDHzGu"
      },
      "source": [
        "\n",
        "Try and initialize the CNN embedding layer with the `50D` pre-trained GloVe embeddings. Pay particular attention to keeping the correct indices from the `word2idx` for the lookup table! Once you fill the below `wvecs` matrix, copy the previous training loop and initialize its embedding layer with the pre-trained ones as follows:\n",
        "\n",
        "```python\n",
        "model.embedding.weight.data.copy_(torch.from_numpy(wvecs))\n",
        "```\n",
        "\n",
        "**Note:** The learning rate is initially set to 0.5.\n",
        "\n",
        "---\n",
        "\n",
        "**Q: What should the embedding for the padding token `<pad>` be?**\n",
        " \n",
        "**Q: What is the impact of using those pre-trained embeddings on the model performance?**"
      ]
    },
    {
      "cell_type": "code",
      "execution_count": null,
      "metadata": {
        "colab": {},
        "colab_type": "code",
        "id": "OCsV8mtBg4-Y"
      },
      "outputs": [],
      "source": [
        "from tqdm import tqdm\n",
        "\n",
        "EMBEDDING_DIM = 50\n",
        "\n",
        "# Yet another hyperparameter: since the pre-trained embeddings are coming\n",
        "# from a different network, their magnitudes could differ from the parameters\n",
        "# of this network. So scaling may be necessary.\n",
        "SCALE_EMBS = 0.65\n",
        "\n",
        "# Creates the empty numpy array that you should fill below\n",
        "wvecs = np.zeros((len(word2idx), EMBEDDING_DIM), dtype='float32')\n",
        "\n",
        "#####################################################################\n",
        "# Q: Read line by line, find the corresponding word and\n",
        "# insert its embedding to the correct position in the `wvecs` matrix.\n",
        "# Once done, apply the SCALE_EMBS factor to scale the vectors\n",
        "#####################################################################\n",
        "with open(f'glove.6B.{EMBEDDING_DIM}d.txt', 'r') as f:\n",
        "  \"<TODO>\"\n",
        "        \n",
        "print(wvecs)\n",
        "\n",
        "#####################\n",
        "# Re-create the model\n",
        "#####################\n",
        "fix_seed()\n",
        "\n",
        "EPOCHS = 10\n",
        "LRATE = 0.5\n",
        "\n",
        "# the hyperparameters specific to CNN\n",
        "OUTPUT_DIM = 1\n",
        "\n",
        "# we define the number of filters\n",
        "N_OUT_CHANNELS = 100\n",
        "\n",
        "# we define the window size\n",
        "WINDOW_SIZE = 1\n",
        "\n",
        "# we apply the dropout with the probability 0.1\n",
        "DROPOUT = 0.1\n",
        "\n",
        "# Construct the model\n",
        "model = CNN(len(word2idx), EMBEDDING_DIM, N_OUT_CHANNELS, WINDOW_SIZE, OUTPUT_DIM, DROPOUT)\n",
        "\n",
        "#################################################################\n",
        "### Q: Initialize the embeddings with the loaded pre-trained ones\n",
        "#################################################################\n",
        "\"<TODO>\"\n",
        "\n",
        "optimizer = optim.SGD(model.parameters(), lr=LRATE)\n",
        "loss_fn = nn.BCEWithLogitsLoss()\n",
        "\n",
        "feature_train = train_sent_tensor\n",
        "target_train = train_label_tensor\n",
        "\n",
        "feature_valid = valid_sent_tensor\n",
        "target_valid = valid_label_tensor\n",
        "\n",
        "feature_test = test_sent_tensor\n",
        "target_test = test_label_tensor\n",
        "\n",
        "################\n",
        "# Start training\n",
        "################\n",
        "print(f'Will train for {EPOCHS} epochs')\n",
        "for epoch in range(1, EPOCHS + 1):\n",
        "  model.train()\n",
        "  \n",
        "  optimizer.zero_grad()\n",
        "\n",
        "  predictions = model(feature_train).squeeze(1)\n",
        "  loss = loss_fn(predictions, target_train)\n",
        "  train_loss = loss.item()\n",
        "  train_acc = accuracy(predictions, target_train)\n",
        "\n",
        "  loss.backward()\n",
        "\n",
        "  optimizer.step()\n",
        "\n",
        "  model.eval()\n",
        "  with torch.no_grad():\n",
        "    predictions_valid = model(feature_valid).squeeze(1)\n",
        "    valid_loss = loss_fn(predictions_valid, target_valid).item()\n",
        "    valid_acc = accuracy(predictions_valid, target_valid)\n",
        "  \n",
        "  print(f'| Epoch: {epoch:02} | Train Loss: {train_loss:.3f} | Train Acc: {train_acc*100:6.2f}% | Val. Loss: {valid_loss:.3f} | Val. Acc: {valid_acc*100:6.2f}% |')\n",
        "\n",
        "\n",
        "## Finally, test on the test set\n",
        "model.eval()\n",
        "\n",
        "with torch.no_grad():\n",
        "    predictions = model(feature_test).squeeze(1)\n",
        "    loss = loss_fn(predictions, target_test)\n",
        "    acc = accuracy(predictions, target_test)\n",
        "    print(f'Test Loss: {loss:.3f} | Test Acc: {acc*100:.2f}%')\n",
        "    f_measure(predictions, test_labels)"
      ]
    },
    {
      "cell_type": "markdown",
      "metadata": {
        "colab_type": "text",
        "id": "PKsR86iBOkgP"
      },
      "source": [
        "# Advanced: Experimenting with larger corpora\n",
        "\n",
        "For advanced experiments with a larger dataset, we suggest to use the [IMBD dataset](http://ai.stanford.edu/~amaas/data/sentiment/) of movie reviews available from [`torchtext.datasets`](https://torchtext.readthedocs.io/en/latest/data.html). This module also provides a range of useful functionalities for data preparation: defining a preprocessing pipeline, splitting, batching, padding, iterating through data, loading pre-trained embeddings, building vocabulary, etc. Below we provide an example using the tokenizer as provided by the [spaCy](https://spacy.io) toolkit.\n",
        "\n",
        "With the batch size provided, `BucketIterator` defines mini-batches by grouping sequences with similar original lengths, so that there is minimal need for padding.  For this bigger dataset, use `.cuda()` on any input batches/tensors, network modules and loss functions to place computations on the GPU. When working on **Google Colab**, make sure that you changed your runtime to GPU from the above menu.\n",
        "\n",
        "You can start by applying the provided CNN model to this dataset."
      ]
    },
    {
      "cell_type": "code",
      "execution_count": null,
      "metadata": {
        "colab": {},
        "colab_type": "code",
        "id": "71Dq7amIOnUP"
      },
      "outputs": [],
      "source": [
        "from torchtext.legacy import data, datasets\n",
        "from torch.utils.data import DataLoader\n",
        "import spacy\n",
        "\n",
        "# Fix GPU seeds\n",
        "SEED = 9320\n",
        "\n",
        "if torch.cuda.is_available():\n",
        "  torch.backends.cudnn.deterministic = True\n",
        "  DEVICE='cuda:0'\n",
        "else:\n",
        "  DEVICE='cpu'\n",
        "\n",
        "print('Device is', DEVICE)"
      ]
    },
    {
      "cell_type": "code",
      "execution_count": null,
      "metadata": {
        "colab": {},
        "colab_type": "code",
        "id": "IY11cw5-PJ2a"
      },
      "outputs": [],
      "source": [
        "# NOTE: Execution of this cell takes a couple of minutes\n",
        "##\n",
        "\n",
        "# define types of data and their preprocessing\n",
        "text_field = data.Field(tokenize='spacy', lower=True)\n",
        "label_field = data.LabelField(dtype=torch.float)\n",
        "\n",
        "# get pre-defined split\n",
        "train, test_init = datasets.IMDB.splits(text_field, label_field)\n",
        "\n",
        "# define our own validation and test set (initial test set is too large)\n",
        "train, valid_test = train.split(split_ratio=0.9, random_state=random.seed(SEED))\n",
        "valid, test = valid_test.split(split_ratio=0.5, random_state=random.seed(SEED))\n",
        "\n",
        "print(f'Train size: {len(train)}')\n",
        "print(f'Validation size: {len(valid)}')\n",
        "print(f'Test size: {len(test)}')"
      ]
    },
    {
      "cell_type": "code",
      "execution_count": null,
      "metadata": {
        "colab": {},
        "colab_type": "code",
        "id": "udpDm9lsQi2I"
      },
      "outputs": [],
      "source": [
        "# build vocabulary with maximum size (less frequent words are not considered)\n",
        "# load the pre-trained word embeddings.\n",
        "EMBEDDING_DIM = 50\n",
        "\n",
        "text_field.build_vocab(train, max_size=25000, vectors=f\"glove.6B.{EMBEDDING_DIM}d\")\n",
        "label_field.build_vocab(train)"
      ]
    },
    {
      "cell_type": "code",
      "execution_count": null,
      "metadata": {
        "colab": {},
        "colab_type": "code",
        "id": "iYWVMjoGO9jE"
      },
      "outputs": [],
      "source": [
        "# get iterators over the data\n",
        "# place iterators on the GPU if possible\n",
        "\n",
        "# define our batch size\n",
        "BATCH_SIZE = 64\n",
        "\n",
        "train_iterator, valid_iterator, test_iterator = data.BucketIterator.splits(\n",
        "  (train, valid, test),\n",
        "  batch_sizes=(BATCH_SIZE, BATCH_SIZE, BATCH_SIZE), device=DEVICE)"
      ]
    },
    {
      "cell_type": "code",
      "execution_count": null,
      "metadata": {
        "colab": {},
        "colab_type": "code",
        "id": "z1Gr756JtRcC"
      },
      "outputs": [],
      "source": [
        "def eval_data(data_iter, model, loss_fn):\n",
        "  model.eval()\n",
        "  loss = 0\n",
        "  acc = 0\n",
        "  denom = 0\n",
        "\n",
        "  with torch.no_grad():\n",
        "    for batch in data_iter:\n",
        "      # place on the GPU          \n",
        "      feature, target = batch.text.to(DEVICE), batch.label.to(DEVICE)\n",
        "      predictions = model(feature.t()).squeeze(1)\n",
        "      \n",
        "      _loss = loss_fn(predictions, target)\n",
        "      loss += (_loss.item() * predictions.shape[0])\n",
        "      acc += (accuracy(predictions, target) * predictions.shape[0])\n",
        "      denom += predictions.shape[0]\n",
        "\n",
        "  model.train()\n",
        "  return loss / denom, acc / denom"
      ]
    },
    {
      "cell_type": "code",
      "execution_count": null,
      "metadata": {
        "colab": {},
        "colab_type": "code",
        "id": "fP-EZueBPo1G"
      },
      "outputs": [],
      "source": [
        "def train_model(train_iter, dev_iter, model, loss_fn, n_epochs):\n",
        "  for epoch in range(1, n_epochs + 1): \n",
        "    print(f'Starting epoch {epoch}')\n",
        "    train_loss = 0\n",
        "    train_loss_denom = 0\n",
        "    train_acc = 0\n",
        "    model.train()\n",
        "    \n",
        "    # iterate over batches\n",
        "    for batch in train_iter:\n",
        "        # place on the GPU          \n",
        "        feature, target = batch.text.to(DEVICE), batch.label.to(DEVICE)\n",
        "        \n",
        "        optimizer.zero_grad()\n",
        "        predictions = model(feature.t()).squeeze(1)\n",
        "          \n",
        "        loss = loss_fn(predictions, target)\n",
        "        acc = accuracy(predictions, target)\n",
        "        \n",
        "        loss.backward()\n",
        "        optimizer.step()\n",
        "        train_loss += (loss.item() * predictions.shape[0])\n",
        "        train_loss_denom += predictions.shape[0]\n",
        "        train_acc += (acc * predictions.shape[0])\n",
        "        \n",
        "    valid_loss, valid_acc = eval_data(dev_iter, model, loss_fn)\n",
        "\n",
        "    # Normalize everything\n",
        "    train_loss /= train_loss_denom\n",
        "    train_acc /= train_loss_denom\n",
        "\n",
        "    print(f'| Epoch: {epoch:02} | Train Loss: {train_loss:.3f} | Train Acc: {train_acc*100:6.2f}% | Val. Loss: {valid_loss:.3f} | Val. Acc: {valid_acc*100:6.2f}%')\n"
      ]
    },
    {
      "cell_type": "code",
      "execution_count": null,
      "metadata": {
        "colab": {},
        "colab_type": "code",
        "id": "_g02vvYMSVZp"
      },
      "outputs": [],
      "source": [
        "N_OUT_CHANNELS = 100\n",
        "LRATE = 0.5\n",
        "DROPOUT = 0.4\n",
        "WINDOW_SIZE = 1\n",
        "\n",
        "# Construct the model\n",
        "model = CNN(len(text_field.vocab), EMBEDDING_DIM, N_OUT_CHANNELS, WINDOW_SIZE, OUTPUT_DIM, DROPOUT)\n",
        "print(model)\n",
        "\n",
        "model = model.to(DEVICE)\n",
        "optimizer = optim.SGD(model.parameters(), lr=LRATE)\n",
        "loss_fn = nn.BCEWithLogitsLoss()\n",
        "\n",
        "# Start training\n",
        "train_model(train_iterator, valid_iterator, model, loss_fn, n_epochs=10)"
      ]
    },
    {
      "cell_type": "markdown",
      "metadata": {
        "colab_type": "text",
        "id": "A0DSqbKBRCKy"
      },
      "source": [
        "**Q: The paper Convolutional Neural Networks for Sentence Classification (Kim, 2014) applies 3 convolutional layers in parallel with window sizes [3, 4, 5]. Try to extend our CNN model with 2 more convolution layers and apply these window sizes. Outputs of the pooling layers are concatenated. What will be the effect on the model performance?**\n",
        "\n",
        "**Hint:** you can use the `nn.ModuleList function`.\n",
        "\n",
        "**Q: Pre-processing: experiment with filtering out stop words from input data. What will be the effect on the performance? You may choose to use spaCy to get a list of stop words. Here's an example:**\n"
      ]
    },
    {
      "cell_type": "code",
      "execution_count": null,
      "metadata": {
        "colab": {},
        "colab_type": "code",
        "id": "eQpqpHFKRYOD"
      },
      "outputs": [],
      "source": [
        "# Example\n",
        "spacy_nlp = spacy.load('en_core_web_sm')\n",
        "spacy_stop_words = spacy.lang.en.stop_words.STOP_WORDS\n",
        "print(spacy_stop_words)\n",
        "text_field = data.Field(tokenize='spacy', lower=True, stop_words=spacy_stop_words)"
      ]
    },
    {
      "cell_type": "markdown",
      "metadata": {
        "colab_type": "text",
        "id": "2ely0azrRsW5"
      },
      "source": [
        "**Q: Apply a Naive Bayes classifier to the problem. How would it perform for this task? You can use the `sklearn.naive_bayes.MultinomialNB` implementation from the popular `scikit-learn` toolkit. Extraction of the data for this purpose could be performed as follows:**"
      ]
    },
    {
      "cell_type": "code",
      "execution_count": null,
      "metadata": {
        "colab": {},
        "colab_type": "code",
        "id": "vJ1EoMnuXgCK"
      },
      "outputs": [],
      "source": [
        "for example in train:\n",
        "  if example.label == 'pos':\n",
        "      label = 1\n",
        "  else:\n",
        "      label = 0"
      ]
    }
  ],
  "metadata": {
    "accelerator": "GPU",
    "colab": {
      "collapsed_sections": [],
      "name": "lab02_SentimentClassification_V2.ipynb",
      "provenance": [],
      "toc_visible": true
    },
    "kernelspec": {
      "display_name": "Python 3",
      "name": "python3"
    },
    "language_info": {
      "codemirror_mode": {
        "name": "ipython",
        "version": 3
      },
      "file_extension": ".py",
      "mimetype": "text/x-python",
      "name": "python",
      "nbconvert_exporter": "python",
      "pygments_lexer": "ipython3",
      "version": "3.8.12"
    }
  },
  "nbformat": 4,
  "nbformat_minor": 0
}
